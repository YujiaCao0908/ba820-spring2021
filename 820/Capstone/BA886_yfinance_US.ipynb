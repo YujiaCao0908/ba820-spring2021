{
  "nbformat": 4,
  "nbformat_minor": 0,
  "metadata": {
    "colab": {
      "name": "BA886-yfinance-US.ipynb",
      "provenance": []
    },
    "kernelspec": {
      "name": "python3",
      "display_name": "Python 3"
    }
  },
  "cells": [
    {
      "cell_type": "markdown",
      "metadata": {
        "id": "QH_so1TTuJCt"
      },
      "source": [
        "# BA886 - Capstone 2021\n",
        "# Sample Python Code for Downloading Yahoo! Finance Data for U.S. Stocks\n",
        "- Professor Peter Wysocki\n",
        "- Perpetual Investors Projects\n",
        "- February 2021\n",
        "\n",
        "\n",
        "\n"
      ]
    },
    {
      "cell_type": "markdown",
      "metadata": {
        "id": "GEWAgzsAvIFN"
      },
      "source": [
        "**Description:**\n",
        "- The following code cells contain example code that uses the *yfinance* package to download stock market data for U.S. Companies\n",
        "- Please see the short video posted on the BA886 site on QuestromTools (under Media Gallery) that gives an explanation of this code\n",
        "- You may run this \"ipynb\" on Google Colab\n",
        "or in Jupyter Notebooks\n",
        "\n",
        "**Important: Documentation on the \"yfinance\" package can be found here:**\n",
        "\n",
        "- https://aroussi.com/post/python-yahoo-finance\n",
        "\n",
        "- https://pypi.org/project/yfinance/\n",
        "\n",
        "- https://www.datasciencelearner.com/yahoo-finance-api-python/\n"
      ]
    },
    {
      "cell_type": "code",
      "metadata": {
        "id": "qBgZWUJZZXeR"
      },
      "source": [
        "# Install yfinance package using pip (use pip3 for installing a package for Python3)\n",
        "!pip3 install yfinance"
      ],
      "execution_count": null,
      "outputs": []
    },
    {
      "cell_type": "code",
      "metadata": {
        "id": "UEIGI0wwZJuf"
      },
      "source": [
        "# We will use the following packages: \"pandas\" (for dataframes) and yfinance (to get data)\n",
        "# So import these packages (reference as \"pd\" and \"yf\" for the code).\n",
        "import pandas as pd\n",
        "import yfinance as yf"
      ],
      "execution_count": 12,
      "outputs": []
    },
    {
      "cell_type": "code",
      "metadata": {
        "id": "HnaoMlYtqgHI"
      },
      "source": [
        "# We will download stock market data for 10 European companies\n",
        "# This example uses the 3 companies (you have more to do)\n",
        "# IMPORTANT!!!! - See instructions from Prof. Wysocki to learn how to get the correct tickers\n",
        "\n",
        "# This list has the 3 tickers separated by spaces\n",
        "tickers = 'MSFT AAPL IBM'\n",
        "\n",
        "# We will create a pandas dataframe with the name 'df_yahoo'.\n",
        "# We will use the yf (yfinance) download function to get the data from the Yahoo! Finance website.\n",
        "# The yf function uses the following parameters:\n",
        "#   -> tickers: The list of tickers\n",
        "#   -> period: How many years of data to download? In this case 10 years '10y' from today\n",
        "#   -> interval: Trequency of data. In this case, we will get monthly data '1mo'\n",
        "#   -> group_by: data will be grouped by ticker\n",
        "\n",
        "df_yahoo = yf.download(tickers, period=\"10y\", interval=\"1mo\", group_by = 'ticker')"
      ],
      "execution_count": null,
      "outputs": []
    },
    {
      "cell_type": "code",
      "metadata": {
        "id": "jiV--SLkfk3d"
      },
      "source": [
        "# List the first 5 rows of the dataframe\n",
        "\n",
        "df_yahoo.head()"
      ],
      "execution_count": null,
      "outputs": []
    },
    {
      "cell_type": "code",
      "metadata": {
        "id": "prXF8jd4pqAF"
      },
      "source": [
        "# If we just wish to list the data for the stock ticker AAPL, we would do:\n",
        "\n",
        "dd = df_yahoo['AAPL']"
      ],
      "execution_count": 15,
      "outputs": []
    },
    {
      "cell_type": "code",
      "metadata": {
        "id": "t8_c5l2z0vSf"
      },
      "source": [
        "tickname='AAPL'\n",
        "dd['Ticker'] = tickname\n",
        "dd"
      ],
      "execution_count": null,
      "outputs": []
    },
    {
      "cell_type": "code",
      "metadata": {
        "id": "difRlinHdyya"
      },
      "source": [
        "name_CSV_file = tickname + '_yfinance.csv'\n",
        "\n",
        "dd.to_csv(name_CSV_file)"
      ],
      "execution_count": 17,
      "outputs": []
    }
  ]
}